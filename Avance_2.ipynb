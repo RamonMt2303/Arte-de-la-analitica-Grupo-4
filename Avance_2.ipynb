{
  "nbformat": 4,
  "nbformat_minor": 0,
  "metadata": {
    "colab": {
      "name": "Avance_2.ipynb",
      "provenance": [],
      "collapsed_sections": [],
      "include_colab_link": true
    },
    "kernelspec": {
      "name": "python3",
      "display_name": "Python 3"
    },
    "language_info": {
      "name": "python"
    }
  },
  "cells": [
    {
      "cell_type": "markdown",
      "metadata": {
        "id": "view-in-github",
        "colab_type": "text"
      },
      "source": [
        "<a href=\"https://colab.research.google.com/github/RamonMt2303/RetoAnalitica/blob/main/Avance_2.ipynb\" target=\"_parent\"><img src=\"https://colab.research.google.com/assets/colab-badge.svg\" alt=\"Open In Colab\"/></a>"
      ]
    },
    {
      "cell_type": "code",
      "metadata": {
        "id": "9zpgxACNP5WO"
      },
      "source": [
        "import pandas as pd\n",
        "from matplotlib import pyplot as plt"
      ],
      "execution_count": null,
      "outputs": []
    },
    {
      "cell_type": "code",
      "metadata": {
        "id": "yF9eGVbyQOIe"
      },
      "source": [
        "df= pd.read_csv('country vaccinations by manufacturer.csv')\n"
      ],
      "execution_count": 60,
      "outputs": []
    },
    {
      "cell_type": "code",
      "metadata": {
        "colab": {
          "base_uri": "https://localhost:8080/"
        },
        "id": "5EPiHbEVjUZ-",
        "outputId": "2810de38-6219-4e74-f177-33f21e8a39dc"
      },
      "source": [
        "vacunas = df ['vaccine'].sort_values(ascending = True)\n",
        "johnson = 0\n",
        "moderna = 0\n",
        "astra = 0\n",
        "sinovac = 0\n",
        "cansino = 0\n",
        "pfizer = 0\n",
        "sino = 0\n",
        "spunik = 0\n",
        "\n",
        "for i in range (len(vacunas)):\n",
        "  if (vacunas[i] == \"Johnson&Johnson\"):\n",
        "    johnson = johnson + 1\n",
        "  elif (vacunas[i]==\"Moderna\"):\n",
        "    moderna=moderna+1\n",
        "  elif (vacunas[i]==\"Oxford/AstraZeneca\"):\n",
        "    astra=astra+1\n",
        "  elif (vacunas[i]==\"Sinovac\"):\n",
        "    sinovac=sinovac+1\n",
        "  elif (vacunas[i]==\"CanSino\"):\n",
        "    cansino=cansino+1\n",
        "  elif (vacunas[i]==\"Pfizer/BioNTech\"):\n",
        "    pfizer=pfizer+1\n",
        "  elif (vacunas[i]==\"Sinopharm/Beijing\"):\n",
        "    sino=sino+1\n",
        "  else: \n",
        "    spunik=spunik+1\n",
        "  \n",
        "print ('Johnsosn', johnson, '\\n',\n",
        "       'Moderna', moderna, '\\n',\n",
        "       'AstraZeneca', astra, '\\n',\n",
        "       'Sinovac', sinovac, '\\n',\n",
        "       'CanSino', cansino, '\\n',\n",
        "       'Pfizer', pfizer, '\\n',\n",
        "       'Sinopharm', sino, '\\n',\n",
        "       'Spunik', spunik, '\\n')\n"
      ],
      "execution_count": 64,
      "outputs": [
        {
          "output_type": "stream",
          "name": "stdout",
          "text": [
            "Johnsosn 1658 \n",
            " Moderna 2765 \n",
            " AstraZeneca 2345 \n",
            " Sinovac 513 \n",
            " CanSino 64 \n",
            " Pfizer 3556 \n",
            " Sinopharm 25 \n",
            " Spunik 39 \n",
            "\n"
          ]
        }
      ]
    },
    {
      "cell_type": "code",
      "metadata": {
        "id": "bI88dD4kctsz"
      },
      "source": [
        "filtro = df[df['total_vaccinations'] > 1]\n"
      ],
      "execution_count": 54,
      "outputs": []
    },
    {
      "cell_type": "code",
      "metadata": {
        "colab": {
          "base_uri": "https://localhost:8080/"
        },
        "id": "I8k4tjDAalWl",
        "outputId": "8a557ae2-3365-4139-d575-2b1851db9aa3"
      },
      "source": [
        "letonia = filtro[filtro['location'] == 'Latvia']\n",
        "letonia['total_vaccinations'].describe()"
      ],
      "execution_count": 41,
      "outputs": [
        {
          "output_type": "execute_result",
          "data": {
            "text/plain": [
              "count       745.000000\n",
              "mean     149039.766443\n",
              "std      181389.888541\n",
              "min           2.000000\n",
              "25%       21222.000000\n",
              "50%       76455.000000\n",
              "75%      216452.000000\n",
              "max      765226.000000\n",
              "Name: total_vaccinations, dtype: float64"
            ]
          },
          "metadata": {},
          "execution_count": 41
        }
      ]
    },
    {
      "cell_type": "code",
      "metadata": {
        "colab": {
          "base_uri": "https://localhost:8080/"
        },
        "id": "vth7m04sapvP",
        "outputId": "00fd6042-7d6f-4333-8a57-87e2a3fba011"
      },
      "source": [
        "lituania = filtro[filtro['location'] == 'Lithuania']\n",
        "lituania['total_vaccinations'].describe()"
      ],
      "execution_count": 42,
      "outputs": [
        {
          "output_type": "execute_result",
          "data": {
            "text/plain": [
              "count    7.310000e+02\n",
              "mean     3.284231e+05\n",
              "std      4.484279e+05\n",
              "min      2.000000e+00\n",
              "25%      5.237900e+04\n",
              "50%      1.619180e+05\n",
              "75%      3.833675e+05\n",
              "max      1.816191e+06\n",
              "Name: total_vaccinations, dtype: float64"
            ]
          },
          "metadata": {},
          "execution_count": 42
        }
      ]
    },
    {
      "cell_type": "code",
      "metadata": {
        "colab": {
          "base_uri": "https://localhost:8080/"
        },
        "id": "UrrQt6h1arU8",
        "outputId": "68e77f3d-5e41-4d18-b3b7-cd0edcb17744"
      },
      "source": [
        "austria = filtro[filtro['location'] == 'Austria']\n",
        "austria['total_vaccinations'].describe()"
      ],
      "execution_count": 43,
      "outputs": [
        {
          "output_type": "execute_result",
          "data": {
            "text/plain": [
              "count    1.090000e+02\n",
              "mean     1.087260e+06\n",
              "std      1.665316e+06\n",
              "min      2.000000e+00\n",
              "25%      9.416900e+04\n",
              "50%      4.650430e+05\n",
              "75%      1.149646e+06\n",
              "max      6.948170e+06\n",
              "Name: total_vaccinations, dtype: float64"
            ]
          },
          "metadata": {},
          "execution_count": 43
        }
      ]
    },
    {
      "cell_type": "code",
      "metadata": {
        "colab": {
          "base_uri": "https://localhost:8080/"
        },
        "id": "TzXmyxMGatGU",
        "outputId": "139ad7a3-74cc-403a-cc1f-6d548375b392"
      },
      "source": [
        "francia = filtro[filtro['location'] == 'France']\n",
        "francia['total_vaccinations'].describe()"
      ],
      "execution_count": 44,
      "outputs": [
        {
          "output_type": "execute_result",
          "data": {
            "text/plain": [
              "count    7.120000e+02\n",
              "mean     7.781927e+06\n",
              "std      1.299206e+07\n",
              "min      1.690000e+02\n",
              "25%      5.276648e+05\n",
              "50%      3.167334e+06\n",
              "75%      6.995735e+06\n",
              "max      6.038862e+07\n",
              "Name: total_vaccinations, dtype: float64"
            ]
          },
          "metadata": {},
          "execution_count": 44
        }
      ]
    },
    {
      "cell_type": "code",
      "metadata": {
        "colab": {
          "base_uri": "https://localhost:8080/"
        },
        "id": "FnZ03aHCauvH",
        "outputId": "e5045124-8dff-416e-a9c2-43d40ae21996"
      },
      "source": [
        "islandia = filtro[filtro['location'] == 'Iceland']\n",
        "islandia['total_vaccinations'].describe()"
      ],
      "execution_count": 45,
      "outputs": [
        {
          "output_type": "execute_result",
          "data": {
            "text/plain": [
              "count       746.000000\n",
              "mean      51936.483914\n",
              "std       65157.130065\n",
              "min           2.000000\n",
              "25%        8166.000000\n",
              "50%       28366.000000\n",
              "75%       64715.750000\n",
              "max      266644.000000\n",
              "Name: total_vaccinations, dtype: float64"
            ]
          },
          "metadata": {},
          "execution_count": 45
        }
      ]
    },
    {
      "cell_type": "code",
      "metadata": {
        "colab": {
          "base_uri": "https://localhost:8080/"
        },
        "id": "nFaL7JYOawPZ",
        "outputId": "bad7cbbf-e38d-4ed0-f0b4-8bd7e7db2d3e"
      },
      "source": [
        "chile = filtro[filtro['location'] == 'Chile']\n",
        "chile['total_vaccinations'].describe()"
      ],
      "execution_count": 46,
      "outputs": [
        {
          "output_type": "execute_result",
          "data": {
            "text/plain": [
              "count    5.650000e+02\n",
              "mean     4.653381e+06\n",
              "std      5.960830e+06\n",
              "min      7.400000e+01\n",
              "25%      3.312530e+05\n",
              "50%      1.667147e+06\n",
              "75%      6.242527e+06\n",
              "max      1.852677e+07\n",
              "Name: total_vaccinations, dtype: float64"
            ]
          },
          "metadata": {},
          "execution_count": 46
        }
      ]
    },
    {
      "cell_type": "code",
      "metadata": {
        "colab": {
          "base_uri": "https://localhost:8080/"
        },
        "id": "hbFjcqDPaxxT",
        "outputId": "fb073f9d-a993-422a-a9d3-2b0056766e2a"
      },
      "source": [
        "eua = filtro[filtro['location'] == 'United States']\n",
        "eua['total_vaccinations'].describe()"
      ],
      "execution_count": 40,
      "outputs": [
        {
          "output_type": "execute_result",
          "data": {
            "text/plain": [
              "count    5.560000e+02\n",
              "mean     7.468373e+07\n",
              "std      6.302420e+07\n",
              "min      2.085900e+05\n",
              "25%      1.257429e+07\n",
              "50%      5.989692e+07\n",
              "75%      1.318244e+08\n",
              "max      1.970163e+08\n",
              "Name: total_vaccinations, dtype: float64"
            ]
          },
          "metadata": {},
          "execution_count": 40
        }
      ]
    },
    {
      "cell_type": "code",
      "metadata": {
        "colab": {
          "base_uri": "https://localhost:8080/"
        },
        "id": "-nS64qCAaWSt",
        "outputId": "91d80aff-5bfb-4c0e-da72-0872b02231b1"
      },
      "source": [
        "alemania = filtro[filtro['location'] == 'Germany']\n",
        "alemania['total_vaccinations'].describe()"
      ],
      "execution_count": 47,
      "outputs": [
        {
          "output_type": "execute_result",
          "data": {
            "text/plain": [
              "count    8.640000e+02\n",
              "mean     8.863205e+06\n",
              "std      1.576857e+07\n",
              "min      2.000000e+00\n",
              "25%      1.134810e+05\n",
              "50%      2.366364e+06\n",
              "75%      8.721156e+06\n",
              "max      7.121198e+07\n",
              "Name: total_vaccinations, dtype: float64"
            ]
          },
          "metadata": {},
          "execution_count": 47
        }
      ]
    },
    {
      "cell_type": "code",
      "metadata": {
        "colab": {
          "base_uri": "https://localhost:8080/",
          "height": 295
        },
        "id": "bfVrY56sfPvP",
        "outputId": "d966bbfe-57ef-4ad8-abec-c4be28049c16"
      },
      "source": [
        "vacunas_total = pd.DataFrame(data={\"Fabricantes\":['Johnsosn','Moderna','AstraZeneca','Sinovac', 'CanSino', 'Pfizer', 'Sinopharm', 'Spunik'],\n",
        "                        \"Número de Producción\":[1658, 2765, 2345, 513, 64, 3556, 25, 39]})\n",
        "vacunas_total"
      ],
      "execution_count": 55,
      "outputs": [
        {
          "output_type": "execute_result",
          "data": {
            "text/html": [
              "<div>\n",
              "<style scoped>\n",
              "    .dataframe tbody tr th:only-of-type {\n",
              "        vertical-align: middle;\n",
              "    }\n",
              "\n",
              "    .dataframe tbody tr th {\n",
              "        vertical-align: top;\n",
              "    }\n",
              "\n",
              "    .dataframe thead th {\n",
              "        text-align: right;\n",
              "    }\n",
              "</style>\n",
              "<table border=\"1\" class=\"dataframe\">\n",
              "  <thead>\n",
              "    <tr style=\"text-align: right;\">\n",
              "      <th></th>\n",
              "      <th>Fabricantes</th>\n",
              "      <th>Número de Producción</th>\n",
              "    </tr>\n",
              "  </thead>\n",
              "  <tbody>\n",
              "    <tr>\n",
              "      <th>0</th>\n",
              "      <td>Johnsosn</td>\n",
              "      <td>1658</td>\n",
              "    </tr>\n",
              "    <tr>\n",
              "      <th>1</th>\n",
              "      <td>Moderna</td>\n",
              "      <td>2765</td>\n",
              "    </tr>\n",
              "    <tr>\n",
              "      <th>2</th>\n",
              "      <td>AstraZeneca</td>\n",
              "      <td>2345</td>\n",
              "    </tr>\n",
              "    <tr>\n",
              "      <th>3</th>\n",
              "      <td>Sinovac</td>\n",
              "      <td>513</td>\n",
              "    </tr>\n",
              "    <tr>\n",
              "      <th>4</th>\n",
              "      <td>CanSino</td>\n",
              "      <td>64</td>\n",
              "    </tr>\n",
              "    <tr>\n",
              "      <th>5</th>\n",
              "      <td>Pfizer</td>\n",
              "      <td>3556</td>\n",
              "    </tr>\n",
              "    <tr>\n",
              "      <th>6</th>\n",
              "      <td>Sinopharm</td>\n",
              "      <td>25</td>\n",
              "    </tr>\n",
              "    <tr>\n",
              "      <th>7</th>\n",
              "      <td>Spunik</td>\n",
              "      <td>39</td>\n",
              "    </tr>\n",
              "  </tbody>\n",
              "</table>\n",
              "</div>"
            ],
            "text/plain": [
              "   Fabricantes  Número de Producción\n",
              "0     Johnsosn                  1658\n",
              "1      Moderna                  2765\n",
              "2  AstraZeneca                  2345\n",
              "3      Sinovac                   513\n",
              "4      CanSino                    64\n",
              "5       Pfizer                  3556\n",
              "6    Sinopharm                    25\n",
              "7       Spunik                    39"
            ]
          },
          "metadata": {},
          "execution_count": 55
        }
      ]
    },
    {
      "cell_type": "code",
      "metadata": {
        "colab": {
          "base_uri": "https://localhost:8080/",
          "height": 379
        },
        "id": "YBEU_uhhgJO0",
        "outputId": "75d357be-14c3-432f-a705-9802a9f1ca64"
      },
      "source": [
        "vacunas_total.set_index('Fabricantes')['Número de Producción'].plot(kind='bar')\n",
        "plt.title('Producción de cada Fabricante', y=1.05, size=15)"
      ],
      "execution_count": 59,
      "outputs": [
        {
          "output_type": "execute_result",
          "data": {
            "text/plain": [
              "Text(0.5, 1.05, 'Producción de cada Fabricante')"
            ]
          },
          "metadata": {},
          "execution_count": 59
        },
        {
          "output_type": "display_data",
          "data": {
            "image/png": "[encoded data removed]",
            "text/plain": [
              "<Figure size 432x288 with 1 Axes>"
            ]
          },
          "metadata": {
            "needs_background": "light"
          }
        }
      ]
    },
    {
      "cell_type": "code",
      "metadata": {
        "colab": {
          "base_uri": "https://localhost:8080/",
          "height": 295
        },
        "id": "1mqOkVKEh8eK",
        "outputId": "c0fe9077-1259-4c74-9f8d-5cebccb896bd"
      },
      "source": [
        "paises = pd.DataFrame(data={\"Paises\":['Letonia','Lituania','Austria','Francia', 'Islandia', 'Chile', 'Estados Unidos', 'Alemania'],\n",
        "                        \"Número de Producción de Vacunas\":[745, 731, 109, 712, 746, 565, 556, 864]})\n",
        "paises"
      ],
      "execution_count": 62,
      "outputs": [
        {
          "output_type": "execute_result",
          "data": {
            "text/html": [
              "<div>\n",
              "<style scoped>\n",
              "    .dataframe tbody tr th:only-of-type {\n",
              "        vertical-align: middle;\n",
              "    }\n",
              "\n",
              "    .dataframe tbody tr th {\n",
              "        vertical-align: top;\n",
              "    }\n",
              "\n",
              "    .dataframe thead th {\n",
              "        text-align: right;\n",
              "    }\n",
              "</style>\n",
              "<table border=\"1\" class=\"dataframe\">\n",
              "  <thead>\n",
              "    <tr style=\"text-align: right;\">\n",
              "      <th></th>\n",
              "      <th>Paises</th>\n",
              "      <th>Número de Producción de Vacunas</th>\n",
              "    </tr>\n",
              "  </thead>\n",
              "  <tbody>\n",
              "    <tr>\n",
              "      <th>0</th>\n",
              "      <td>Letonia</td>\n",
              "      <td>745</td>\n",
              "    </tr>\n",
              "    <tr>\n",
              "      <th>1</th>\n",
              "      <td>Lituania</td>\n",
              "      <td>731</td>\n",
              "    </tr>\n",
              "    <tr>\n",
              "      <th>2</th>\n",
              "      <td>Austria</td>\n",
              "      <td>109</td>\n",
              "    </tr>\n",
              "    <tr>\n",
              "      <th>3</th>\n",
              "      <td>Francia</td>\n",
              "      <td>712</td>\n",
              "    </tr>\n",
              "    <tr>\n",
              "      <th>4</th>\n",
              "      <td>Islandia</td>\n",
              "      <td>746</td>\n",
              "    </tr>\n",
              "    <tr>\n",
              "      <th>5</th>\n",
              "      <td>Chile</td>\n",
              "      <td>565</td>\n",
              "    </tr>\n",
              "    <tr>\n",
              "      <th>6</th>\n",
              "      <td>Estados Unidos</td>\n",
              "      <td>556</td>\n",
              "    </tr>\n",
              "    <tr>\n",
              "      <th>7</th>\n",
              "      <td>Alemania</td>\n",
              "      <td>864</td>\n",
              "    </tr>\n",
              "  </tbody>\n",
              "</table>\n",
              "</div>"
            ],
            "text/plain": [
              "           Paises  Número de Producción de Vacunas\n",
              "0         Letonia                              745\n",
              "1        Lituania                              731\n",
              "2         Austria                              109\n",
              "3         Francia                              712\n",
              "4        Islandia                              746\n",
              "5           Chile                              565\n",
              "6  Estados Unidos                              556\n",
              "7        Alemania                              864"
            ]
          },
          "metadata": {},
          "execution_count": 62
        }
      ]
    },
    {
      "cell_type": "code",
      "metadata": {
        "colab": {
          "base_uri": "https://localhost:8080/",
          "height": 392
        },
        "id": "5kO0gGWyigdh",
        "outputId": "8159b153-5236-44d9-adb6-9353ce3e5d7c"
      },
      "source": [
        "paises.set_index('Paises')['Número de Producción de Vacunas'].plot(kind='bar')\n",
        "plt.title('Producción Alrededor de mundo', y=1.05, size=15)"
      ],
      "execution_count": 63,
      "outputs": [
        {
          "output_type": "execute_result",
          "data": {
            "text/plain": [
              "Text(0.5, 1.05, 'Producción Alrededor de mundo')"
            ]
          },
          "metadata": {},
          "execution_count": 63
        },
        {
          "output_type": "display_data",
          "data": {
            "image/png": "[encoded data removed]",
            "text/plain": [
              "<Figure size 432x288 with 1 Axes>"
            ]
          },
          "metadata": {
            "needs_background": "light"
          }
        }
      ]
    }
  ]
}