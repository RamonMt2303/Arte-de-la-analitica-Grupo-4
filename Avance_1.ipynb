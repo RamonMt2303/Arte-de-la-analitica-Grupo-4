{
  "nbformat": 4,
  "nbformat_minor": 0,
  "metadata": {
    "colab": {
      "name": "Avance_1.ipynb",
      "provenance": [],
      "authorship_tag": "ABX9TyMvEQzYi0KbQb35QFmsvSGI",
      "include_colab_link": true
    },
    "kernelspec": {
      "name": "python3",
      "display_name": "Python 3"
    },
    "language_info": {
      "name": "python"
    }
  },
  "cells": [
    {
      "cell_type": "markdown",
      "metadata": {
        "id": "view-in-github",
        "colab_type": "text"
      },
      "source": [
        "<a href=\"https://colab.research.google.com/github/RamonMt2303/RetoAnalitica/blob/main/Avance_1.ipynb\" target=\"_parent\"><img src=\"https://colab.research.google.com/assets/colab-badge.svg\" alt=\"Open In Colab\"/></a>"
      ]
    },
    {
      "cell_type": "code",
      "metadata": {
        "id": "BAmJhNZvRxcP"
      },
      "source": [
        "import pandas as pd"
      ],
      "execution_count": 2,
      "outputs": []
    },
    {
      "cell_type": "code",
      "metadata": {
        "colab": {
          "base_uri": "https://localhost:8080/"
        },
        "id": "zKFfMucaR65Y",
        "outputId": "5e8a87f8-c91b-4152-dee3-9326e16683f0"
      },
      "source": [
        "df= pd.read_csv('country vaccinations by manufacturer.csv')\n",
        "print (df)"
      ],
      "execution_count": 3,
      "outputs": [
        {
          "output_type": "stream",
          "name": "stdout",
          "text": [
            "      location        date             vaccine  total_vaccinations\n",
            "0      Austria  2021-01-08     Johnson&Johnson                   0\n",
            "1      Austria  2021-01-08             Moderna                   0\n",
            "2      Austria  2021-01-08  Oxford/AstraZeneca                   0\n",
            "3      Austria  2021-01-08     Pfizer/BioNTech               31020\n",
            "4      Austria  2021-01-15     Johnson&Johnson                   0\n",
            "...        ...         ...                 ...                 ...\n",
            "10960  Uruguay  2021-08-07     Pfizer/BioNTech             1562360\n",
            "10961  Uruguay  2021-08-07             Sinovac             3234519\n",
            "10962  Uruguay  2021-08-08  Oxford/AstraZeneca               84121\n",
            "10963  Uruguay  2021-08-08     Pfizer/BioNTech             1562430\n",
            "10964  Uruguay  2021-08-08             Sinovac             3234526\n",
            "\n",
            "[10965 rows x 4 columns]\n"
          ]
        }
      ]
    },
    {
      "cell_type": "code",
      "metadata": {
        "colab": {
          "base_uri": "https://localhost:8080/"
        },
        "id": "nGAE41lRTirp",
        "outputId": "489be155-6227-478e-840b-73bd8a383d40"
      },
      "source": [
        "vacunas = df ['vaccine'].sort_values(ascending = True)\n",
        "johnson = 0\n",
        "moderna = 0\n",
        "astra = 0\n",
        "sinovac = 0\n",
        "cansino = 0\n",
        "pfizer = 0\n",
        "sino = 0\n",
        "spunik = 0\n",
        "\n",
        "for i in range (len(vacunas)):\n",
        "  if (vacunas[i] == \"Johnson&Johnson\"):\n",
        "    johnson = johnson + 1\n",
        "  elif (vacunas[i]==\"Moderna\"):\n",
        "    moderna=moderna+1\n",
        "  elif (vacunas[i]==\"Oxford/AstraZeneca\"):\n",
        "    astra=astra+1\n",
        "  elif (vacunas[i]==\"Sinovac\"):\n",
        "    sinovac=sinovac+1\n",
        "  elif (vacunas[i]==\"CanSino\"):\n",
        "    cansino=cansino+1\n",
        "  elif (vacunas[i]==\"Pfizer/BioNTech\"):\n",
        "    pfizer=pfizer+1\n",
        "  elif (vacunas[i]==\"Sinopharm/Beijing\"):\n",
        "    sino=sino+1\n",
        "  else: \n",
        "    spunik=spunik+1\n",
        "print ('Johnsosn', johnson, '\\n',\n",
        "       'Moderna', moderna, '\\n',\n",
        "       'AstraZeneca', astra, '\\n',\n",
        "       'Sinovac', sinovac, '\\n',\n",
        "       'CanSino', cansino, '\\n',\n",
        "       'Pfizer', pfizer, '\\n',\n",
        "       'Sinopharm', sino, '\\n',\n",
        "       'Spunik', spunik, '\\n')\n"
      ],
      "execution_count": 16,
      "outputs": [
        {
          "output_type": "stream",
          "name": "stdout",
          "text": [
            "Johnsosn 1658 \n",
            " Moderna 2765 \n",
            " AstraZeneca 2345 \n",
            " Sinovac 513 \n",
            " CanSino 64 \n",
            " Pfizer 3556 \n",
            " Sinopharm 25 \n",
            " Spunik 39 \n",
            "\n"
          ]
        }
      ]
    },
    {
      "cell_type": "code",
      "metadata": {
        "colab": {
          "base_uri": "https://localhost:8080/"
        },
        "id": "_xXRfmELSTAE",
        "outputId": "c76848a6-8c1e-4444-e0ab-e428fa0fabef"
      },
      "source": [
        "print('Media: ', df['total_vaccinations'].mean())"
      ],
      "execution_count": 4,
      "outputs": [
        {
          "output_type": "stream",
          "name": "stdout",
          "text": [
            "Media:  6647945.79498404\n"
          ]
        }
      ]
    },
    {
      "cell_type": "code",
      "metadata": {
        "colab": {
          "base_uri": "https://localhost:8080/"
        },
        "id": "HTS5OGEnSazx",
        "outputId": "3403ad8b-11d5-4549-f937-5dd6d97453da"
      },
      "source": [
        "#Meadiana\n",
        "print ('Mediana: ', df['total_vaccinations'].median())"
      ],
      "execution_count": 5,
      "outputs": [
        {
          "output_type": "stream",
          "name": "stdout",
          "text": [
            "Mediana:  407271.0\n"
          ]
        }
      ]
    },
    {
      "cell_type": "code",
      "metadata": {
        "colab": {
          "base_uri": "https://localhost:8080/"
        },
        "id": "ysvwce12Sgi2",
        "outputId": "f8e662ac-81ae-45c7-dc6b-82529212701d"
      },
      "source": [
        "#Varaciones grande por no son represnetativos y chicos es que estan mas cercanos \n",
        "print ('Desviación estándar: ', df['total_vaccinations'].std())"
      ],
      "execution_count": 6,
      "outputs": [
        {
          "output_type": "stream",
          "name": "stdout",
          "text": [
            "Desviación estándar:  22767561.620033413\n"
          ]
        }
      ]
    },
    {
      "cell_type": "code",
      "metadata": {
        "colab": {
          "base_uri": "https://localhost:8080/"
        },
        "id": "4FtMQDhrSp-e",
        "outputId": "faeed86c-d922-4d71-ff9d-2a7e3f66c589"
      },
      "source": [
        "#Varianza\n",
        "print ('Varianza: ', df ['total_vaccinations']. var())"
      ],
      "execution_count": 7,
      "outputs": [
        {
          "output_type": "stream",
          "name": "stdout",
          "text": [
            "Varianza:  518361862122018.56\n"
          ]
        }
      ]
    },
    {
      "cell_type": "code",
      "metadata": {
        "colab": {
          "base_uri": "https://localhost:8080/"
        },
        "id": "9GY_dJDISwkm",
        "outputId": "beb9118c-6ba4-4973-f826-2d49c3c9fe55"
      },
      "source": [
        "#Cuartiles\n",
        "df['total_vaccinations'].quantile([0.25, 0.5, 0.75])"
      ],
      "execution_count": 8,
      "outputs": [
        {
          "output_type": "execute_result",
          "data": {
            "text/plain": [
              "0.25      50880.0\n",
              "0.50     407271.0\n",
              "0.75    2607053.0\n",
              "Name: total_vaccinations, dtype: float64"
            ]
          },
          "metadata": {},
          "execution_count": 8
        }
      ]
    }
  ]
}