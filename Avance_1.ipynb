{
 "nbformat": 4,
 "nbformat_minor": 0,
 "metadata": {
  "colab": {
   "name": "Avance_1.ipynb",
   "provenance": [],
   "authorship_tag": "ABX9TyMvEQzYi0KbQb35QFmsvSGI",
   "include_colab_link": true
  },
  "kernelspec": {
   "name": "pycharm-442a213e",
   "language": "python",
   "display_name": "PyCharm (TC1002S)"
  },
  "language_info": {
   "name": "python"
  }
 },
 "cells": [
  {
   "cell_type": "markdown",
   "metadata": {
    "id": "view-in-github",
    "colab_type": "text"
   },
   "source": [
    "# Avance 1\n",
    "##### Herramientas computacionales: el arte de la analítica\n",
    "###### TC1002S.122\n",
    "<a href=\"https://colab.research.google.com/github/RamonMt2303/RetoAnalitica/blob/main/Avance_1.ipynb\" target=\"_parent\"><img src=\"https://colab.research.google.com/assets/colab-badge.svg\" alt=\"Open In Colab\"/></a>"
   ]
  },
  {
   "cell_type": "code",
   "metadata": {
    "id": "BAmJhNZvRxcP"
   },
   "source": [
    "import pandas as pd"
   ],
   "execution_count": 2,
   "outputs": []
  },
  {
   "cell_type": "code",
   "metadata": {
    "colab": {
     "base_uri": "https://localhost:8080/"
    },
    "id": "zKFfMucaR65Y",
    "outputId": "5e8a87f8-c91b-4152-dee3-9326e16683f0"
   },
   "source": [
    "df= pd.read_csv('vaccinations.csv')\n",
    "print (df)"
   ],
   "execution_count": 3,
   "outputs": [
    {
     "name": "stdout",
     "output_type": "stream",
     "text": [
      "           country iso_code        date  total_vaccinations  \\\n",
      "0      Afghanistan      AFG  2021-02-22                 0.0   \n",
      "1      Afghanistan      AFG  2021-02-23                 NaN   \n",
      "2      Afghanistan      AFG  2021-02-24                 NaN   \n",
      "3      Afghanistan      AFG  2021-02-25                 NaN   \n",
      "4      Afghanistan      AFG  2021-02-26                 NaN   \n",
      "...            ...      ...         ...                 ...   \n",
      "36058     Zimbabwe      ZWE  2021-07-31           2413509.0   \n",
      "36059     Zimbabwe      ZWE  2021-08-01           2433341.0   \n",
      "36060     Zimbabwe      ZWE  2021-08-02           2473590.0   \n",
      "36061     Zimbabwe      ZWE  2021-08-03           2540555.0   \n",
      "36062     Zimbabwe      ZWE  2021-08-04           2604265.0   \n",
      "\n",
      "       people_vaccinated  people_fully_vaccinated  daily_vaccinations_raw  \\\n",
      "0                    0.0                      NaN                     NaN   \n",
      "1                    NaN                      NaN                     NaN   \n",
      "2                    NaN                      NaN                     NaN   \n",
      "3                    NaN                      NaN                     NaN   \n",
      "4                    NaN                      NaN                     NaN   \n",
      "...                  ...                      ...                     ...   \n",
      "36058          1645599.0                 767910.0                 38148.0   \n",
      "36059          1654112.0                 779229.0                 19832.0   \n",
      "36060          1674710.0                 798880.0                 40249.0   \n",
      "36061          1707671.0                 832884.0                 66965.0   \n",
      "36062          1740598.0                 863667.0                 63710.0   \n",
      "\n",
      "       daily_vaccinations  total_vaccinations_per_hundred  \\\n",
      "0                     NaN                            0.00   \n",
      "1                  1367.0                             NaN   \n",
      "2                  1367.0                             NaN   \n",
      "3                  1367.0                             NaN   \n",
      "4                  1367.0                             NaN   \n",
      "...                   ...                             ...   \n",
      "36058             42406.0                           16.24   \n",
      "36059             43706.0                           16.37   \n",
      "36060             42126.0                           16.64   \n",
      "36061             46246.0                           17.09   \n",
      "36062             46978.0                           17.52   \n",
      "\n",
      "       people_vaccinated_per_hundred  people_fully_vaccinated_per_hundred  \\\n",
      "0                               0.00                                  NaN   \n",
      "1                                NaN                                  NaN   \n",
      "2                                NaN                                  NaN   \n",
      "3                                NaN                                  NaN   \n",
      "4                                NaN                                  NaN   \n",
      "...                              ...                                  ...   \n",
      "36058                          11.07                                 5.17   \n",
      "36059                          11.13                                 5.24   \n",
      "36060                          11.27                                 5.37   \n",
      "36061                          11.49                                 5.60   \n",
      "36062                          11.71                                 5.81   \n",
      "\n",
      "       daily_vaccinations_per_million  \\\n",
      "0                                 NaN   \n",
      "1                                35.0   \n",
      "2                                35.0   \n",
      "3                                35.0   \n",
      "4                                35.0   \n",
      "...                               ...   \n",
      "36058                          2853.0   \n",
      "36059                          2941.0   \n",
      "36060                          2834.0   \n",
      "36061                          3112.0   \n",
      "36062                          3161.0   \n",
      "\n",
      "                                                vaccines  \\\n",
      "0      Johnson&Johnson, Oxford/AstraZeneca, Pfizer/Bi...   \n",
      "1      Johnson&Johnson, Oxford/AstraZeneca, Pfizer/Bi...   \n",
      "2      Johnson&Johnson, Oxford/AstraZeneca, Pfizer/Bi...   \n",
      "3      Johnson&Johnson, Oxford/AstraZeneca, Pfizer/Bi...   \n",
      "4      Johnson&Johnson, Oxford/AstraZeneca, Pfizer/Bi...   \n",
      "...                                                  ...   \n",
      "36058              Sinopharm/Beijing, Sinovac, Sputnik V   \n",
      "36059              Sinopharm/Beijing, Sinovac, Sputnik V   \n",
      "36060              Sinopharm/Beijing, Sinovac, Sputnik V   \n",
      "36061              Sinopharm/Beijing, Sinovac, Sputnik V   \n",
      "36062              Sinopharm/Beijing, Sinovac, Sputnik V   \n",
      "\n",
      "                     source_name  \\\n",
      "0      World Health Organization   \n",
      "1      World Health Organization   \n",
      "2      World Health Organization   \n",
      "3      World Health Organization   \n",
      "4      World Health Organization   \n",
      "...                          ...   \n",
      "36058         Ministry of Health   \n",
      "36059         Ministry of Health   \n",
      "36060         Ministry of Health   \n",
      "36061         Ministry of Health   \n",
      "36062         Ministry of Health   \n",
      "\n",
      "                                          source_website  \n",
      "0                               https://covid19.who.int/  \n",
      "1                               https://covid19.who.int/  \n",
      "2                               https://covid19.who.int/  \n",
      "3                               https://covid19.who.int/  \n",
      "4                               https://covid19.who.int/  \n",
      "...                                                  ...  \n",
      "36058  https://twitter.com/MoHCCZim/status/1423037345...  \n",
      "36059  https://twitter.com/MoHCCZim/status/1423037345...  \n",
      "36060  https://twitter.com/MoHCCZim/status/1423037345...  \n",
      "36061  https://twitter.com/MoHCCZim/status/1423037345...  \n",
      "36062  https://twitter.com/MoHCCZim/status/1423037345...  \n",
      "\n",
      "[36063 rows x 15 columns]\n"
     ]
    }
   ]
  },
  {
   "cell_type": "code",
   "metadata": {
    "colab": {
     "base_uri": "https://localhost:8080/"
    },
    "id": "nGAE41lRTirp",
    "outputId": "489be155-6227-478e-840b-73bd8a383d40"
   },
   "source": [
    "vacunas = df ['vaccines'].sort_values(ascending = True)\n",
    "johnson = 0\n",
    "moderna = 0\n",
    "astra = 0\n",
    "sinovac = 0\n",
    "cansino = 0\n",
    "pfizer = 0\n",
    "sino = 0\n",
    "spunik = 0\n",
    "\n",
    "for i in range (len(vacunas)):\n",
    "  if (vacunas[i] == \"Johnson&Johnson\"):\n",
    "    johnson = johnson + 1\n",
    "  elif (vacunas[i]==\"Moderna\"):\n",
    "    moderna=moderna+1\n",
    "  elif (vacunas[i]==\"Oxford/AstraZeneca\"):\n",
    "    astra=astra+1\n",
    "  elif (vacunas[i]==\"Sinovac\"):\n",
    "    sinovac=sinovac+1\n",
    "  elif (vacunas[i]==\"CanSino\"):\n",
    "    cansino=cansino+1\n",
    "  elif (vacunas[i]==\"Pfizer/BioNTech\"):\n",
    "    pfizer=pfizer+1\n",
    "  elif (vacunas[i]==\"Sinopharm/Beijing\"):\n",
    "    sino=sino+1\n",
    "  else: \n",
    "    spunik=spunik+1\n",
    "print ('Johnson', johnson, '\\n',\n",
    "       'Moderna', moderna, '\\n',\n",
    "       'AstraZeneca', astra, '\\n',\n",
    "       'Sinovac', sinovac, '\\n',\n",
    "       'CanSino', cansino, '\\n',\n",
    "       'Pfizer', pfizer, '\\n',\n",
    "       'Sinopharm', sino, '\\n',\n",
    "       'Sputnik', spunik, '\\n')\n"
   ],
   "execution_count": 5,
   "outputs": [
    {
     "name": "stdout",
     "output_type": "stream",
     "text": [
      "Johnsosn 0 \n",
      " Moderna 192 \n",
      " AstraZeneca 5523 \n",
      " Sinovac 0 \n",
      " CanSino 0 \n",
      " Pfizer 1284 \n",
      " Sinopharm 339 \n",
      " Spunik 28725 \n",
      "\n"
     ]
    }
   ]
  },
  {
   "cell_type": "code",
   "metadata": {
    "colab": {
     "base_uri": "https://localhost:8080/"
    },
    "id": "_xXRfmELSTAE",
    "outputId": "c76848a6-8c1e-4444-e0ab-e428fa0fabef"
   },
   "source": [
    "print('Media: ', df['total_vaccinations'].mean())"
   ],
   "execution_count": 6,
   "outputs": [
    {
     "name": "stdout",
     "output_type": "stream",
     "text": [
      "Media:  15018775.912896153\n"
     ]
    }
   ]
  },
  {
   "cell_type": "code",
   "metadata": {
    "colab": {
     "base_uri": "https://localhost:8080/"
    },
    "id": "HTS5OGEnSazx",
    "outputId": "3403ad8b-11d5-4549-f937-5dd6d97453da"
   },
   "source": [
    "#Meadiana\n",
    "print ('Mediana: ', df['total_vaccinations'].median())"
   ],
   "execution_count": 7,
   "outputs": [
    {
     "name": "stdout",
     "output_type": "stream",
     "text": [
      "Mediana:  1075853.0\n"
     ]
    }
   ]
  },
  {
   "cell_type": "code",
   "metadata": {
    "colab": {
     "base_uri": "https://localhost:8080/"
    },
    "id": "ysvwce12Sgi2",
    "outputId": "f8e662ac-81ae-45c7-dc6b-82529212701d"
   },
   "source": [
    "#Varaciones grande por no son represnetativos y chicos es que estan mas cercanos \n",
    "print ('Desviación estándar: ', df['total_vaccinations'].std())"
   ],
   "execution_count": 8,
   "outputs": [
    {
     "name": "stdout",
     "output_type": "stream",
     "text": [
      "Desviación estándar:  85157440.94089921\n"
     ]
    }
   ]
  },
  {
   "cell_type": "code",
   "metadata": {
    "colab": {
     "base_uri": "https://localhost:8080/"
    },
    "id": "4FtMQDhrSp-e",
    "outputId": "faeed86c-d922-4d71-ff9d-2a7e3f66c589"
   },
   "source": [
    "#Varianza\n",
    "print ('Varianza: ', df ['total_vaccinations']. var())"
   ],
   "execution_count": 9,
   "outputs": [
    {
     "name": "stdout",
     "output_type": "stream",
     "text": [
      "Varianza:  7251789747602736.0\n"
     ]
    }
   ]
  },
  {
   "cell_type": "code",
   "metadata": {
    "colab": {
     "base_uri": "https://localhost:8080/"
    },
    "id": "9GY_dJDISwkm",
    "outputId": "beb9118c-6ba4-4973-f826-2d49c3c9fe55"
   },
   "source": [
    "#Cuartiles\n",
    "df['total_vaccinations'].quantile([0.25, 0.5, 0.75])"
   ],
   "execution_count": 10,
   "outputs": [
    {
     "data": {
      "text/plain": "0.25     153475.5\n0.50    1075853.0\n0.75    5421286.5\nName: total_vaccinations, dtype: float64"
     },
     "execution_count": 10,
     "metadata": {},
     "output_type": "execute_result"
    }
   ]
  }
 ]
}